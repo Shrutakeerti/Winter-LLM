{
  "nbformat": 4,
  "nbformat_minor": 0,
  "metadata": {
    "colab": {
      "provenance": []
    },
    "kernelspec": {
      "name": "python3",
      "display_name": "Python 3"
    },
    "language_info": {
      "name": "python"
    }
  },
  "cells": [
    {
      "cell_type": "code",
      "execution_count": 3,
      "metadata": {
        "colab": {
          "base_uri": "https://localhost:8080/"
        },
        "id": "nSdyRiBD4GNN",
        "outputId": "8f358362-aa38-43b6-cd30-cf2b5ad40ffb"
      },
      "outputs": [
        {
          "output_type": "stream",
          "name": "stderr",
          "text": [
            "/usr/local/lib/python3.10/dist-packages/transformers/models/marian/tokenization_marian.py:175: UserWarning: Recommended: pip install sacremoses.\n",
            "  warnings.warn(\"Recommended: pip install sacremoses.\")\n",
            "/usr/local/lib/python3.10/dist-packages/transformers/tokenization_utils_base.py:1601: FutureWarning: `clean_up_tokenization_spaces` was not set. It will be set to `True` by default. This behavior will be depracted in transformers v4.45, and will be then set to `False` by default. For more details check this issue: https://github.com/huggingface/transformers/issues/31884\n",
            "  warnings.warn(\n"
          ]
        },
        {
          "output_type": "stream",
          "name": "stdout",
          "text": [
            "Translations saved to translations.csv\n",
            "Iteration 0: Hey, Rajarshi, how are you doing today? Wanna grab some coffee later? Today Boss has given us a day off.\n",
            "Iteration 1: Rajarshi, comment allez-vous aujourd'hui?\n",
            "Iteration 2: Rajarshi, how are you today?\n",
            "Iteration 3: Rajarshi, comment allez-vous aujourd'hui?\n",
            "Iteration 4: Rajarshi, how are you today?\n",
            "Iteration 5: Rajarshi, comment allez-vous aujourd'hui?\n",
            "Iteration 6: Rajarshi, how are you today?\n",
            "Iteration 7: Rajarshi, comment allez-vous aujourd'hui?\n",
            "Iteration 8: Rajarshi, how are you today?\n",
            "Iteration 9: Rajarshi, comment allez-vous aujourd'hui?\n",
            "Iteration 10: Rajarshi, how are you today?\n"
          ]
        }
      ],
      "source": [
        "import json\n",
        "import torch\n",
        "import pandas as pd  # Import pandas for CSV functionality\n",
        "from transformers import MarianMTModel, MarianTokenizer\n",
        "\n",
        "def load_model(source_lang, target_lang):\n",
        "    model_name = f\"Helsinki-NLP/opus-mt-{source_lang}-{target_lang}\"\n",
        "    tokenizer = MarianTokenizer.from_pretrained(model_name)\n",
        "    model = MarianMTModel.from_pretrained(model_name)\n",
        "    return model, tokenizer\n",
        "\n",
        "def translate(text, source_lang, target_lang):\n",
        "    model, tokenizer = load_model(source_lang, target_lang)\n",
        "    inputs = tokenizer(text, return_tensors=\"pt\", padding=True, truncation=True)\n",
        "    translated = model.generate(**inputs)\n",
        "    translated_text = tokenizer.batch_decode(translated, skip_special_tokens=True)[0]\n",
        "    return translated_text\n",
        "\n",
        "def iterative_translation(text, source_lang, target_lang, iterations):\n",
        "    translations = [text]\n",
        "    for _ in range(iterations):\n",
        "        translated_text = translate(translations[-1], source_lang, target_lang)\n",
        "        translations.append(translated_text)\n",
        "        # Swap source and target languages for the next iteration\n",
        "        source_lang, target_lang = target_lang, source_lang\n",
        "    return translations\n",
        "\n",
        "if __name__ == \"__main__\":\n",
        "    # Example input\n",
        "    text = \"Hey, Rajarshi, how are you doing today? Wanna grab some coffee later? Today Boss has given us a day off.\"\n",
        "    source_lang = \"en\"  # English\n",
        "    target_lang = \"fr\"  # French\n",
        "    iterations = 10\n",
        "\n",
        "    translations = iterative_translation(text, source_lang, target_lang, iterations)\n",
        "\n",
        "    # Prepare data for CSV\n",
        "    data = {'Iteration': list(range(iterations + 1)), 'Translation': translations}\n",
        "    df = pd.DataFrame(data)\n",
        "\n",
        "    # Save to CSV\n",
        "    csv_filename = 'translations.csv'\n",
        "    df.to_csv(csv_filename, index=False)\n",
        "\n",
        "    print(f\"Translations saved to {csv_filename}\")\n",
        "\n",
        "    # Optional: Print translations to console\n",
        "    for i, translation in enumerate(translations):\n",
        "        print(f\"Iteration {i}: {translation}\")\n",
        "\n",
        "\n",
        "\n"
      ]
    }
  ]
}